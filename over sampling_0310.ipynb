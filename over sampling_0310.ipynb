{
 "nbformat": 4,
 "nbformat_minor": 0,
 "metadata": {
  "colab": {
   "provenance": [],
   "mount_file_id": "1ZdkFgQIUgQfVTkZmI32fWRVGm447Qody",
   "authorship_tag": "ABX9TyPJCfrHKLN0aIKl8slK/2M3"
  },
  "kernelspec": {
   "name": "python3",
   "display_name": "Python 3"
  },
  "language_info": {
   "name": "python"
  }
 },
 "cells": [
  {
   "cell_type": "code",
   "execution_count": null,
   "metadata": {
    "colab": {
     "base_uri": "https://localhost:8080/"
    },
    "id": "QdOkEuPzTab1",
    "executionInfo": {
     "status": "ok",
     "timestamp": 1678668811000,
     "user_tz": -540,
     "elapsed": 5432,
     "user": {
      "displayName": "정영운",
      "userId": "08661002276326861946"
     }
    },
    "outputId": "72d53717-f095-4565-f167-6f073c9e33da"
   },
   "outputs": [
    {
     "output_type": "stream",
     "name": "stdout",
     "text": [
      "Looking in indexes: https://pypi.org/simple, https://us-python.pkg.dev/colab-wheels/public/simple/\n",
      "Requirement already satisfied: imbalanced-learn in /usr/local/lib/python3.9/dist-packages (0.8.1)\n",
      "Requirement already satisfied: numpy>=1.13.3 in /usr/local/lib/python3.9/dist-packages (from imbalanced-learn) (1.22.4)\n",
      "Requirement already satisfied: scikit-learn>=0.24 in /usr/local/lib/python3.9/dist-packages (from imbalanced-learn) (1.2.1)\n",
      "Requirement already satisfied: joblib>=0.11 in /usr/local/lib/python3.9/dist-packages (from imbalanced-learn) (1.2.0)\n",
      "Requirement already satisfied: scipy>=0.19.1 in /usr/local/lib/python3.9/dist-packages (from imbalanced-learn) (1.10.1)\n",
      "Requirement already satisfied: threadpoolctl>=2.0.0 in /usr/local/lib/python3.9/dist-packages (from scikit-learn>=0.24->imbalanced-learn) (3.1.0)\n"
     ]
    }
   ],
   "source": [
    "pip install imbalanced-learn"
   ]
  },
  {
   "cell_type": "markdown",
   "source": [
    "### 파일은 4가지 버전이 있음.\n",
    "- label 88개 : {1024, 256 버전}\n",
    "- label 30개(good, bad) : {1024, 256 버전}"
   ],
   "metadata": {
    "id": "nA5NgMi18Bkk"
   }
  },
  {
   "cell_type": "code",
   "source": [
    "# 증강 방법 정의\n",
    "def vertical_flip(img, flag):\n",
    "    if flag:\n",
    "        return cv2.flip(img, 0)\n",
    "    else:\n",
    "        return img\n",
    "\n",
    "def horizontal_flip(img, flag):\n",
    "    if flag:\n",
    "        return cv2.flip(img, 1)\n",
    "    else:\n",
    "        return img\n",
    "\n",
    "\n",
    "def horizontal_shift(img, ratio=0.0):\n",
    "    if ratio > 1 or ratio < 0:\n",
    "        print('Value should be less than 1 and greater than 0')\n",
    "        return img\n",
    "    ratio = random.uniform(-ratio, ratio)\n",
    "    h, w = img.shape[:2]\n",
    "    to_shift = w*ratio\n",
    "    if ratio > 0:\n",
    "        img = img[:, :int(w-to_shift), :]\n",
    "    if ratio < 0:\n",
    "        img = img[:, int(-1*to_shift):, :]\n",
    "    img = fill(img, h, w)\n",
    "    return img\n",
    "\n",
    "def vertical_shift_up(img, ratio=0.0):\n",
    "    if ratio > 1 or ratio < 0:\n",
    "        print('Value should be less than 1 and greater than 0')\n",
    "        return img\n",
    "    ratio = random.uniform(0.0, ratio)\n",
    "    h, w = img.shape[:2]\n",
    "    to_shift = h*ratio\n",
    "    if ratio > 0:\n",
    "        img = img[:int(h-to_shift), :, :]\n",
    "    img = fill(img, h, w)\n",
    "    return img\n",
    "\n",
    "\n",
    "def random_rotation(img, angle):\n",
    "  angle_list = [int(angle), 15, 30, 45, 60, 90, 180]\n",
    "  angle = random.choice(angle_list)\n",
    "  h, w = img.shape[:2]\n",
    "  M = cv2.getRotationMatrix2D((int(w/2), int(h/2)), angle, 1)\n",
    "  img = cv2.warpAffine(img, M, (w, h))\n",
    "  return img\n",
    "\n",
    "def contrast(gray, min_val, max_val):\n",
    "    #gray = cv2.cvtColor(img, cv2.COLOR_GRAY2RGB)\n",
    "    alpha = int(random.uniform(min_val, max_val)) # Contrast control\n",
    "    adjusted = cv2.convertScaleAbs(gray, alpha=alpha)\n",
    "    return adjusted \n",
    "\n",
    "def brightness(gray, val):\n",
    "    #gray = cv2.cvtColor(img, cv2.COLOR_BGR2GRAY)\n",
    "    brightness = int(random.uniform(-val, val))\n",
    "    if brightness > 0:\n",
    "        gray = gray + brightness\n",
    "    else:\n",
    "        gray = gray - brightness\n",
    "    gray = np.clip(gray, 10, 255)\n",
    "    return gray     "
   ],
   "metadata": {
    "id": "v8tqKVm774Yi"
   },
   "execution_count": null,
   "outputs": []
  },
  {
   "cell_type": "code",
   "source": [
    "train_datagen = ImageDataGenerator(rescale=1./255,  # 이미지 크기 변경, RGB값을 0~1로 정규화\n",
    "                                  horizontal_flip=True,          # 수평 대칭 이미지지 생성\n",
    "                                  width_shift_range=0.1,    # 전체 크기의 10% 범위에서 좌우 이동\n",
    "                                  height_shift_range=0.1,   # 전체 크기의 10% 범위에서 위, 아래로 이동\n",
    "                                  rotation_range=22.5,              # 정해진 각도 만큼 이미지 회전\n",
    "                                  shear_range=0.7,               # 좌표 하나 고정하고, 다른 몇개의 좌표를 이동시켜 변환\n",
    "                                  vertical_flip=True,               # 수직 대칭 이미지 생성\n",
    "                                  fill_mode='nearest')  \n",
    "\n"
   ],
   "metadata": {
    "id": "SutIeBgW5rT-",
    "executionInfo": {
     "status": "error",
     "timestamp": 1678668816758,
     "user_tz": -540,
     "elapsed": 12,
     "user": {
      "displayName": "정영운",
      "userId": "08661002276326861946"
     }
    },
    "colab": {
     "base_uri": "https://localhost:8080/",
     "height": 245
    },
    "outputId": "3502e965-72cd-4af8-c398-f67a7aa528c6"
   },
   "execution_count": null,
   "outputs": [
    {
     "output_type": "error",
     "ename": "NameError",
     "evalue": "ignored",
     "traceback": [
      "\u001B[0;31m---------------------------------------------------------------------------\u001B[0m",
      "\u001B[0;31mNameError\u001B[0m                                 Traceback (most recent call last)",
      "\u001B[0;32m<ipython-input-3-a27aa3d7cbbc>\u001B[0m in \u001B[0;36m<module>\u001B[0;34m\u001B[0m\n\u001B[0;32m----> 1\u001B[0;31m train_datagen = ImageDataGenerator(rescale=1./255,  # 이미지 크기 변경, RGB값을 0~1로 정규화\n\u001B[0m\u001B[1;32m      2\u001B[0m                                   \u001B[0mhorizontal_flip\u001B[0m\u001B[0;34m=\u001B[0m\u001B[0;32mTrue\u001B[0m\u001B[0;34m,\u001B[0m          \u001B[0;31m# 수평 대칭 이미지지 생성\u001B[0m\u001B[0;34m\u001B[0m\u001B[0;34m\u001B[0m\u001B[0m\n\u001B[1;32m      3\u001B[0m                                   \u001B[0mwidth_shift_range\u001B[0m\u001B[0;34m=\u001B[0m\u001B[0;36m0.1\u001B[0m\u001B[0;34m,\u001B[0m    \u001B[0;31m# 전체 크기의 10% 범위에서 좌우 이동\u001B[0m\u001B[0;34m\u001B[0m\u001B[0;34m\u001B[0m\u001B[0m\n\u001B[1;32m      4\u001B[0m                                   \u001B[0mheight_shift_range\u001B[0m\u001B[0;34m=\u001B[0m\u001B[0;36m0.1\u001B[0m\u001B[0;34m,\u001B[0m   \u001B[0;31m# 전체 크기의 10% 범위에서 위, 아래로 이동\u001B[0m\u001B[0;34m\u001B[0m\u001B[0;34m\u001B[0m\u001B[0m\n\u001B[1;32m      5\u001B[0m                                   \u001B[0mrotation_range\u001B[0m\u001B[0;34m=\u001B[0m\u001B[0;36m22.5\u001B[0m\u001B[0;34m,\u001B[0m              \u001B[0;31m# 정해진 각도 만큼 이미지 회전\u001B[0m\u001B[0;34m\u001B[0m\u001B[0;34m\u001B[0m\u001B[0m\n",
      "\u001B[0;31mNameError\u001B[0m: name 'ImageDataGenerator' is not defined"
     ]
    }
   ]
  },
  {
   "cell_type": "code",
   "source": [
    "import numpy as np\n",
    "import pandas as pd\n",
    "import matplotlib.pyplot as plt\n",
    "%matplotlib inline\n",
    "import cv2\n",
    "import os, glob\n",
    "import random\n",
    "from tqdm import tqdm\n",
    "from time import time\n",
    "\n",
    "from imblearn.over_sampling import SMOTE\n",
    "from imblearn.under_sampling import RandomUnderSampler\n",
    "import PIL\n",
    "from PIL import Image\n",
    "import torch\n",
    "import torchvision\n",
    "from torch.utils.data import  TensorDataset, DataLoader"
   ],
   "metadata": {
    "id": "pwAiVpO6Tlg0"
   },
   "execution_count": null,
   "outputs": []
  },
  {
   "cell_type": "code",
   "source": [
    "# 2. 데이터 불균형 확인\n",
    "#파일 경로 가져오기\n",
    "PATH = '/content/drive/MyDrive/DL_Project/train_good_bad'\n",
    "\n",
    "image_dirs = os.listdir(PATH)\n",
    "image_paths = dict()\n",
    "for image_dir in tqdm(image_dirs):\n",
    "    try:\n",
    "        files = glob.glob(PATH + image_dir+\"/*.png\") \n",
    "        image_paths[image_dir] = [file for file in files]\n",
    "    except:\n",
    "        FileNotFoundError"
   ],
   "metadata": {
    "colab": {
     "base_uri": "https://localhost:8080/"
    },
    "id": "5ckMT_rHCgt8",
    "executionInfo": {
     "status": "ok",
     "timestamp": 1678668855072,
     "user_tz": -540,
     "elapsed": 958,
     "user": {
      "displayName": "정영운",
      "userId": "08661002276326861946"
     }
    },
    "outputId": "b28a1166-fc83-400c-f808-1a886a56bdc8"
   },
   "execution_count": null,
   "outputs": [
    {
     "output_type": "stream",
     "name": "stderr",
     "text": [
      "100%|██████████| 30/30 [00:00<00:00, 4402.54it/s]\n"
     ]
    }
   ]
  },
  {
   "cell_type": "code",
   "source": [
    "image_dir"
   ],
   "metadata": {
    "colab": {
     "base_uri": "https://localhost:8080/",
     "height": 35
    },
    "id": "dQOXwxPl7EyV",
    "executionInfo": {
     "status": "ok",
     "timestamp": 1678668859629,
     "user_tz": -540,
     "elapsed": 301,
     "user": {
      "displayName": "정영운",
      "userId": "08661002276326861946"
     }
    },
    "outputId": "eec494ae-b5bb-4975-9015-861584a4e3a8"
   },
   "execution_count": null,
   "outputs": [
    {
     "output_type": "execute_result",
     "data": {
      "text/plain": [
       "'wood-good'"
      ],
      "application/vnd.google.colaboratory.intrinsic+json": {
       "type": "string"
      }
     },
     "metadata": {},
     "execution_count": 6
    }
   ]
  },
  {
   "cell_type": "code",
   "source": [
    "data = dict()\n",
    "data['label'] = []\n",
    "data['filename'] = []\n",
    "\n",
    "for label,paths in tqdm(image_paths.items()):\n",
    "    for path in paths:\n",
    "        img = Image.open(path)\n",
    "        data['filename'].append(path)\n",
    "        # 파일 경로에서 클래스 레이블 추출하여 추가\n",
    "        data['label'].append(label)"
   ],
   "metadata": {
    "colab": {
     "base_uri": "https://localhost:8080/"
    },
    "id": "HCe3zl7A706c",
    "executionInfo": {
     "status": "ok",
     "timestamp": 1678668864212,
     "user_tz": -540,
     "elapsed": 312,
     "user": {
      "displayName": "정영운",
      "userId": "08661002276326861946"
     }
    },
    "outputId": "e9caa1c7-3f44-44b9-86e3-593917e3fda2"
   },
   "execution_count": null,
   "outputs": [
    {
     "output_type": "stream",
     "name": "stderr",
     "text": [
      "100%|██████████| 30/30 [00:00<00:00, 10846.40it/s]\n"
     ]
    }
   ]
  },
  {
   "cell_type": "code",
   "source": [
    "data['label']"
   ],
   "metadata": {
    "colab": {
     "base_uri": "https://localhost:8080/"
    },
    "id": "5gcLZjD349FT",
    "executionInfo": {
     "status": "ok",
     "timestamp": 1678668867430,
     "user_tz": -540,
     "elapsed": 3,
     "user": {
      "displayName": "정영운",
      "userId": "08661002276326861946"
     }
    },
    "outputId": "2fd3cc9e-b761-41a0-debc-baa4e8be10fd"
   },
   "execution_count": null,
   "outputs": [
    {
     "output_type": "execute_result",
     "data": {
      "text/plain": [
       "[]"
      ]
     },
     "metadata": {},
     "execution_count": 8
    }
   ]
  },
  {
   "cell_type": "code",
   "source": [
    "#파일 정보 확인 및 이미지 확인, data imbalance 확인 \n",
    "from collections import Counter\n",
    "import matplotlib.pyplot as plt\n",
    "from keras.preprocessing.image import ImageDataGenerator\n",
    "# print('number of samples: ', len(data['image_arr']))\n",
    "print('dict keys: ', list(data.keys()))\n",
    "# print('image shape: ', data['image_arr'][0].shape)\n",
    "count_label = Counter(data['label'])\n",
    "print('Original dataset shape')\n",
    "print(sorted(count_label.items()))"
   ],
   "metadata": {
    "colab": {
     "base_uri": "https://localhost:8080/"
    },
    "id": "LZ6keq5f7wXU",
    "executionInfo": {
     "status": "ok",
     "timestamp": 1678591000792,
     "user_tz": -540,
     "elapsed": 6,
     "user": {
      "displayName": "정영운",
      "userId": "08661002276326861946"
     }
    },
    "outputId": "e9f644f5-8f31-4be4-8fc1-ee9c8185fbd6"
   },
   "execution_count": null,
   "outputs": [
    {
     "output_type": "stream",
     "name": "stdout",
     "text": [
      "dict keys:  ['label', 'filename']\n",
      "Original dataset shape\n",
      "[]\n"
     ]
    }
   ]
  },
  {
   "cell_type": "code",
   "source": [
    "from keras.preprocessing.image import ImageDataGenerator\n",
    "import os\n",
    "import cv2\n",
    "import time\n",
    "from tqdm import tqdm\n",
    "from collections import Counter\n",
    "\n",
    "PATH = '/content/drive/MyDrive/DL_Project/train_class_256/pill-crack'\n",
    "image_dirs = os.listdir(PATH)\n",
    "\n",
    "label_count = Counter(data['label'])\n",
    "label_max = max(label_count.values())\n",
    "\n",
    "# 이미지 증강 함수 정의\n",
    "def augment_image(img):\n",
    "    img = contrast(img, 1, 1.5) # 대비 조절\n",
    "    img = horizontal_flip(img, 1) # 좌우 반전\n",
    "    img = vertical_flip(img, 1)\n",
    "    img = random_rotation(img, 45) # 임의의 각도로 회전\n",
    "    img = horizontal_shift(img, 0.1) # 좌우 이동\n",
    "    return img\n",
    "\n",
    "for image_dir in tqdm(image_dirs):\n",
    "    image_list = os.listdir(PATH+image_dir+\"/\")\n",
    "    len_image_list = len(image_list)\n",
    "\n",
    "    while(len_image_list<label_max):   # 100개까지 이미지 생성\n",
    "        \n",
    "        for image in image_list:\n",
    "            img = cv2.imread(PATH+image_dir+\"/\"+image)\n",
    "            img = augment_image(img) # 이미지 증강\n",
    "            file_name = PATH+image_dir+\"/arumentation_\"+str(time.time())+ '.png'\n",
    "            cv2.imwrite(file_name, img)\n",
    "            len_image_list += 1\n",
    "            if len_image_list >= label_max:\n",
    "                break;\n",
    "\n",
    "    len_image_list = 0"
   ],
   "metadata": {
    "id": "V3c9lPsr7YLd",
    "colab": {
     "base_uri": "https://localhost:8080/",
     "height": 245
    },
    "executionInfo": {
     "status": "error",
     "timestamp": 1678591971756,
     "user_tz": -540,
     "elapsed": 12,
     "user": {
      "displayName": "정영운",
      "userId": "08661002276326861946"
     }
    },
    "outputId": "a5c0825c-36a3-4428-88e6-2bd7a25f437d"
   },
   "execution_count": null,
   "outputs": [
    {
     "output_type": "error",
     "ename": "ValueError",
     "evalue": "ignored",
     "traceback": [
      "\u001B[0;31m---------------------------------------------------------------------------\u001B[0m",
      "\u001B[0;31mValueError\u001B[0m                                Traceback (most recent call last)",
      "\u001B[0;32m<ipython-input-50-c689a8c8f579>\u001B[0m in \u001B[0;36m<module>\u001B[0;34m\u001B[0m\n\u001B[1;32m     10\u001B[0m \u001B[0;34m\u001B[0m\u001B[0m\n\u001B[1;32m     11\u001B[0m \u001B[0mlabel_count\u001B[0m \u001B[0;34m=\u001B[0m \u001B[0mCounter\u001B[0m\u001B[0;34m(\u001B[0m\u001B[0mdata\u001B[0m\u001B[0;34m[\u001B[0m\u001B[0;34m'label'\u001B[0m\u001B[0;34m]\u001B[0m\u001B[0;34m)\u001B[0m\u001B[0;34m\u001B[0m\u001B[0;34m\u001B[0m\u001B[0m\n\u001B[0;32m---> 12\u001B[0;31m \u001B[0mlabel_max\u001B[0m \u001B[0;34m=\u001B[0m \u001B[0mmax\u001B[0m\u001B[0;34m(\u001B[0m\u001B[0mlabel_count\u001B[0m\u001B[0;34m.\u001B[0m\u001B[0mvalues\u001B[0m\u001B[0;34m(\u001B[0m\u001B[0;34m)\u001B[0m\u001B[0;34m)\u001B[0m\u001B[0;34m\u001B[0m\u001B[0;34m\u001B[0m\u001B[0m\n\u001B[0m\u001B[1;32m     13\u001B[0m \u001B[0;34m\u001B[0m\u001B[0m\n\u001B[1;32m     14\u001B[0m \u001B[0;31m# 이미지 증강 함수 정의\u001B[0m\u001B[0;34m\u001B[0m\u001B[0;34m\u001B[0m\u001B[0m\n",
      "\u001B[0;31mValueError\u001B[0m: max() arg is an empty sequence"
     ]
    }
   ]
  },
  {
   "cell_type": "code",
   "source": [
    "label_count = Counter(data['label'])\n",
    "label_count.values()"
   ],
   "metadata": {
    "colab": {
     "base_uri": "https://localhost:8080/"
    },
    "id": "xK9MrY-cA_UR",
    "executionInfo": {
     "status": "ok",
     "timestamp": 1678577531627,
     "user_tz": -540,
     "elapsed": 5,
     "user": {
      "displayName": "정영운",
      "userId": "08661002276326861946"
     }
    },
    "outputId": "70374607-44ba-4f98-ffca-4aaa5ecd4ec0"
   },
   "execution_count": null,
   "outputs": [
    {
     "output_type": "execute_result",
     "data": {
      "text/plain": [
       "dict_values([])"
      ]
     },
     "metadata": {},
     "execution_count": 9
    }
   ]
  },
  {
   "cell_type": "markdown",
   "source": [
    "### 위의 파일이 뭔가 안 되서 각각 파일 별로 증강시키는 코드를 만듬 "
   ],
   "metadata": {
    "id": "wgcbajOC7voF"
   }
  },
  {
   "cell_type": "markdown",
   "source": [
    "참고로 88개는 각각 100개, 30개는 200개 정도로 증강"
   ],
   "metadata": {
    "id": "4uT3Scde8WNz"
   }
  },
  {
   "cell_type": "code",
   "source": [
    "from PIL import Image\n",
    "import cv2\n",
    "import numpy as np\n",
    "import random\n",
    "\n",
    "def image_augmentation(image):\n",
    "    # 이미지 크기 변경\n",
    "    resized_image = cv2.resize(image, (random.randint(100, 500), random.randint(100, 500)))\n",
    "\n",
    "    # 이미지 회전\n",
    "    (h, w) = resized_image.shape[:2]\n",
    "    center = (w // 2, h // 2)\n",
    "    angle = random.randint(0, 360)\n",
    "    M = cv2.getRotationMatrix2D(center, angle, 1.0)\n",
    "    rotated_image = cv2.warpAffine(resized_image, M, (w, h))\n",
    "\n",
    "    # 이미지 대칭\n",
    "    if random.random() > 0.5:\n",
    "        flipped_image = cv2.flip(rotated_image, 1)\n",
    "    else:\n",
    "        flipped_image = rotated_image\n",
    "\n",
    "    return flipped_image"
   ],
   "metadata": {
    "id": "rSbsjCqlBHea",
    "executionInfo": {
     "status": "ok",
     "timestamp": 1678684281046,
     "user_tz": -540,
     "elapsed": 459,
     "user": {
      "displayName": "정영운",
      "userId": "08661002276326861946"
     }
    }
   },
   "execution_count": 14,
   "outputs": []
  },
  {
   "cell_type": "code",
   "source": [
    "import os\n",
    "\n",
    "# 이미지 파일 경로 설정\n",
    "image_dir = '/content/drive/MyDrive/DL_Project/train_256_good_bad/cable-bad'\n",
    "\n",
    "# 이미지 파일 불러오기\n",
    "image_paths = [os.path.join(image_dir, file) for file in os.listdir(image_dir)]\n",
    "\n",
    "# 이미지 증강하기\n",
    "for i in range(200):\n",
    "    # 랜덤한 이미지 선택\n",
    "    image_path = random.choice(image_paths)\n",
    "\n",
    "    # 이미지 불러오기\n",
    "    image = cv2.imread(image_path)\n",
    "\n",
    "    # 이미지 증강\n",
    "    augmented_image = image_augmentation(image)\n",
    "\n",
    "    # 이미지 저장\n",
    "    new_image_path = f'/content/drive/MyDrive/DL_Project/train_256_argu/bottle_bad/{i}.png'\n",
    "    cv2.imwrite(new_image_path, augmented_image)"
   ],
   "metadata": {
    "id": "ZtzIS3M27Jk-",
    "executionInfo": {
     "status": "ok",
     "timestamp": 1678684618857,
     "user_tz": -540,
     "elapsed": 11973,
     "user": {
      "displayName": "정영운",
      "userId": "08661002276326861946"
     }
    }
   },
   "execution_count": 16,
   "outputs": []
  },
  {
   "cell_type": "code",
   "source": [
    "image_paths"
   ],
   "metadata": {
    "id": "AYSj1FnfWuhD",
    "executionInfo": {
     "status": "ok",
     "timestamp": 1678683865716,
     "user_tz": -540,
     "elapsed": 747,
     "user": {
      "displayName": "정영운",
      "userId": "08661002276326861946"
     }
    },
    "outputId": "65004ac8-f594-4723-876e-312e230072ec",
    "colab": {
     "base_uri": "https://localhost:8080/"
    }
   },
   "execution_count": null,
   "outputs": [
    {
     "output_type": "execute_result",
     "data": {
      "text/plain": [
       "['/content/drive/MyDrive/DL_Project/train_256_good_bad/bottle-bad/12787.png',\n",
       " '/content/drive/MyDrive/DL_Project/train_256_good_bad/bottle-bad/11273.png',\n",
       " '/content/drive/MyDrive/DL_Project/train_256_good_bad/bottle-bad/13112.png',\n",
       " '/content/drive/MyDrive/DL_Project/train_256_good_bad/bottle-bad/10759.png',\n",
       " '/content/drive/MyDrive/DL_Project/train_256_good_bad/bottle-bad/10053.png',\n",
       " '/content/drive/MyDrive/DL_Project/train_256_good_bad/bottle-bad/11763.png',\n",
       " '/content/drive/MyDrive/DL_Project/train_256_good_bad/bottle-bad/11307.png',\n",
       " '/content/drive/MyDrive/DL_Project/train_256_good_bad/bottle-bad/13462.png',\n",
       " '/content/drive/MyDrive/DL_Project/train_256_good_bad/bottle-bad/12276.png',\n",
       " '/content/drive/MyDrive/DL_Project/train_256_good_bad/bottle-bad/10837.png',\n",
       " '/content/drive/MyDrive/DL_Project/train_256_good_bad/bottle-bad/12757.png',\n",
       " '/content/drive/MyDrive/DL_Project/train_256_good_bad/bottle-bad/10244.png',\n",
       " '/content/drive/MyDrive/DL_Project/train_256_good_bad/bottle-bad/11805.png',\n",
       " '/content/drive/MyDrive/DL_Project/train_256_good_bad/bottle-bad/13679.png',\n",
       " '/content/drive/MyDrive/DL_Project/train_256_good_bad/bottle-bad/10767.png',\n",
       " '/content/drive/MyDrive/DL_Project/train_256_good_bad/bottle-bad/13436.png',\n",
       " '/content/drive/MyDrive/DL_Project/train_256_good_bad/bottle-bad/12278.png',\n",
       " '/content/drive/MyDrive/DL_Project/train_256_good_bad/bottle-bad/14139.png',\n",
       " '/content/drive/MyDrive/DL_Project/train_256_good_bad/bottle-bad/11628.png',\n",
       " '/content/drive/MyDrive/DL_Project/train_256_good_bad/bottle-bad/11791.png',\n",
       " '/content/drive/MyDrive/DL_Project/train_256_good_bad/bottle-bad/11905.png',\n",
       " '/content/drive/MyDrive/DL_Project/train_256_good_bad/bottle-bad/10217.png',\n",
       " '/content/drive/MyDrive/DL_Project/train_256_good_bad/bottle-bad/12253.png',\n",
       " '/content/drive/MyDrive/DL_Project/train_256_good_bad/bottle-bad/10260.png',\n",
       " '/content/drive/MyDrive/DL_Project/train_256_good_bad/bottle-bad/12006.png',\n",
       " '/content/drive/MyDrive/DL_Project/train_256_good_bad/bottle-bad/10912.png',\n",
       " '/content/drive/MyDrive/DL_Project/train_256_good_bad/bottle-bad/11828.png',\n",
       " '/content/drive/MyDrive/DL_Project/train_256_good_bad/bottle-bad/13456.png',\n",
       " '/content/drive/MyDrive/DL_Project/train_256_good_bad/bottle-bad/10204.png',\n",
       " '/content/drive/MyDrive/DL_Project/train_256_good_bad/bottle-bad/11143.png',\n",
       " '/content/drive/MyDrive/DL_Project/train_256_good_bad/bottle-bad/10712.png',\n",
       " '/content/drive/MyDrive/DL_Project/train_256_good_bad/bottle-bad/10839.png']"
      ]
     },
     "metadata": {},
     "execution_count": 11
    }
   ]
  },
  {
   "cell_type": "markdown",
   "source": [
    "추가로 이 이미지들로 전이학습을 해줘야 하는데, 어떤 방식으로 해야 되는가?"
   ],
   "metadata": {
    "id": "0QKJJINj8heU"
   }
  },
  {
   "cell_type": "code",
   "source": [],
   "metadata": {
    "id": "rlGdjjRw8pyS"
   },
   "execution_count": null,
   "outputs": []
  }
 ]
}
